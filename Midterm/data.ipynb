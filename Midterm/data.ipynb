{
 "cells": [
  {
   "cell_type": "code",
   "execution_count": null,
   "metadata": {},
   "outputs": [],
   "source": [
    "import seaborn as sns\n",
    "import pandas as pd\n",
    "import zipfile\n",
    "import numpy as np\n",
    "\n",
    "import datetime"
   ]
  },
  {
   "cell_type": "code",
   "execution_count": 74,
   "metadata": {},
   "outputs": [
    {
     "data": {
      "text/html": [
       "<div>\n",
       "<style scoped>\n",
       "    .dataframe tbody tr th:only-of-type {\n",
       "        vertical-align: middle;\n",
       "    }\n",
       "\n",
       "    .dataframe tbody tr th {\n",
       "        vertical-align: top;\n",
       "    }\n",
       "\n",
       "    .dataframe thead th {\n",
       "        text-align: right;\n",
       "    }\n",
       "</style>\n",
       "<table border=\"1\" class=\"dataframe\">\n",
       "  <thead>\n",
       "    <tr style=\"text-align: right;\">\n",
       "      <th></th>\n",
       "      <th>Date</th>\n",
       "      <th>High</th>\n",
       "      <th>Low</th>\n",
       "      <th>Open</th>\n",
       "      <th>Close</th>\n",
       "      <th>Volume</th>\n",
       "      <th>Adj Close</th>\n",
       "    </tr>\n",
       "  </thead>\n",
       "  <tbody>\n",
       "    <tr>\n",
       "      <th>0</th>\n",
       "      <td>2017-11-13</td>\n",
       "      <td>10.840000</td>\n",
       "      <td>10.440000</td>\n",
       "      <td>10.660000</td>\n",
       "      <td>10.820000</td>\n",
       "      <td>8512700.0</td>\n",
       "      <td>9.232483</td>\n",
       "    </tr>\n",
       "    <tr>\n",
       "      <th>1</th>\n",
       "      <td>2017-11-14</td>\n",
       "      <td>10.970000</td>\n",
       "      <td>10.740000</td>\n",
       "      <td>10.840000</td>\n",
       "      <td>10.840000</td>\n",
       "      <td>9935600.0</td>\n",
       "      <td>9.249549</td>\n",
       "    </tr>\n",
       "    <tr>\n",
       "      <th>2</th>\n",
       "      <td>2017-11-15</td>\n",
       "      <td>10.900000</td>\n",
       "      <td>10.780000</td>\n",
       "      <td>10.810000</td>\n",
       "      <td>10.870000</td>\n",
       "      <td>6803000.0</td>\n",
       "      <td>9.275147</td>\n",
       "    </tr>\n",
       "    <tr>\n",
       "      <th>3</th>\n",
       "      <td>2017-11-16</td>\n",
       "      <td>10.920000</td>\n",
       "      <td>10.730000</td>\n",
       "      <td>10.910000</td>\n",
       "      <td>10.770000</td>\n",
       "      <td>5917000.0</td>\n",
       "      <td>9.189818</td>\n",
       "    </tr>\n",
       "    <tr>\n",
       "      <th>4</th>\n",
       "      <td>2017-11-17</td>\n",
       "      <td>10.790000</td>\n",
       "      <td>10.600000</td>\n",
       "      <td>10.770000</td>\n",
       "      <td>10.610000</td>\n",
       "      <td>7575000.0</td>\n",
       "      <td>9.053296</td>\n",
       "    </tr>\n",
       "    <tr>\n",
       "      <th>...</th>\n",
       "      <td>...</td>\n",
       "      <td>...</td>\n",
       "      <td>...</td>\n",
       "      <td>...</td>\n",
       "      <td>...</td>\n",
       "      <td>...</td>\n",
       "      <td>...</td>\n",
       "    </tr>\n",
       "    <tr>\n",
       "      <th>1254</th>\n",
       "      <td>2022-11-07</td>\n",
       "      <td>27.020000</td>\n",
       "      <td>26.120001</td>\n",
       "      <td>26.549999</td>\n",
       "      <td>26.780001</td>\n",
       "      <td>5138600.0</td>\n",
       "      <td>26.780001</td>\n",
       "    </tr>\n",
       "    <tr>\n",
       "      <th>1255</th>\n",
       "      <td>2022-11-08</td>\n",
       "      <td>26.840000</td>\n",
       "      <td>26.180000</td>\n",
       "      <td>26.820000</td>\n",
       "      <td>26.490000</td>\n",
       "      <td>4160000.0</td>\n",
       "      <td>26.490000</td>\n",
       "    </tr>\n",
       "    <tr>\n",
       "      <th>1256</th>\n",
       "      <td>2022-11-09</td>\n",
       "      <td>26.709999</td>\n",
       "      <td>26.100000</td>\n",
       "      <td>26.240000</td>\n",
       "      <td>26.250000</td>\n",
       "      <td>4489000.0</td>\n",
       "      <td>26.250000</td>\n",
       "    </tr>\n",
       "    <tr>\n",
       "      <th>1257</th>\n",
       "      <td>2022-11-10</td>\n",
       "      <td>28.240000</td>\n",
       "      <td>26.959999</td>\n",
       "      <td>27.170000</td>\n",
       "      <td>28.219999</td>\n",
       "      <td>6382200.0</td>\n",
       "      <td>28.219999</td>\n",
       "    </tr>\n",
       "    <tr>\n",
       "      <th>1258</th>\n",
       "      <td>2022-11-11</td>\n",
       "      <td>28.570000</td>\n",
       "      <td>27.930000</td>\n",
       "      <td>28.309999</td>\n",
       "      <td>28.080000</td>\n",
       "      <td>4518400.0</td>\n",
       "      <td>28.080000</td>\n",
       "    </tr>\n",
       "  </tbody>\n",
       "</table>\n",
       "<p>1259 rows × 7 columns</p>\n",
       "</div>"
      ],
      "text/plain": [
       "            Date       High        Low       Open      Close     Volume  \\\n",
       "0     2017-11-13  10.840000  10.440000  10.660000  10.820000  8512700.0   \n",
       "1     2017-11-14  10.970000  10.740000  10.840000  10.840000  9935600.0   \n",
       "2     2017-11-15  10.900000  10.780000  10.810000  10.870000  6803000.0   \n",
       "3     2017-11-16  10.920000  10.730000  10.910000  10.770000  5917000.0   \n",
       "4     2017-11-17  10.790000  10.600000  10.770000  10.610000  7575000.0   \n",
       "...          ...        ...        ...        ...        ...        ...   \n",
       "1254  2022-11-07  27.020000  26.120001  26.549999  26.780001  5138600.0   \n",
       "1255  2022-11-08  26.840000  26.180000  26.820000  26.490000  4160000.0   \n",
       "1256  2022-11-09  26.709999  26.100000  26.240000  26.250000  4489000.0   \n",
       "1257  2022-11-10  28.240000  26.959999  27.170000  28.219999  6382200.0   \n",
       "1258  2022-11-11  28.570000  27.930000  28.309999  28.080000  4518400.0   \n",
       "\n",
       "      Adj Close  \n",
       "0      9.232483  \n",
       "1      9.249549  \n",
       "2      9.275147  \n",
       "3      9.189818  \n",
       "4      9.053296  \n",
       "...         ...  \n",
       "1254  26.780001  \n",
       "1255  26.490000  \n",
       "1256  26.250000  \n",
       "1257  28.219999  \n",
       "1258  28.080000  \n",
       "\n",
       "[1259 rows x 7 columns]"
      ]
     },
     "execution_count": 74,
     "metadata": {},
     "output_type": "execute_result"
    }
   ],
   "source": [
    "aes = pd.read_csv('data/AES.csv', sep = ',', on_bad_lines= 'skip')\n",
    "hca = pd.read_csv('data/HCA.csv', sep = ',', on_bad_lines= 'skip')\n",
    "mpc = pd.read_csv('data/MPC.csv', sep = ',', on_bad_lines= 'skip')\n",
    "zion = pd.read_csv('data/ZION.csv', sep = ',', on_bad_lines= 'skip')\n",
    "names = (aes, hca, mpc, zion)\n",
    "aes"
   ]
  },
  {
   "cell_type": "markdown",
   "metadata": {},
   "source": [
    "1.1"
   ]
  },
  {
   "cell_type": "code",
   "execution_count": 92,
   "metadata": {},
   "outputs": [
    {
     "name": "stdout",
     "output_type": "stream",
     "text": [
      "False\n",
      "False\n",
      "False\n",
      "False\n"
     ]
    }
   ],
   "source": [
    "for i in names:\n",
    "    print(i[\"Close\"].equals(i[\"Adj Close\"]))\n",
    "   \n"
   ]
  },
  {
   "cell_type": "markdown",
   "metadata": {},
   "source": [
    "1.2"
   ]
  },
  {
   "cell_type": "code",
   "execution_count": 87,
   "metadata": {},
   "outputs": [
    {
     "name": "stdout",
     "output_type": "stream",
     "text": [
      "The max of Adj Close is:\n",
      "Adj Close    28.219999\n",
      "dtype: float64\n",
      "The max of Adj Close is:\n",
      "Adj Close    275.160004\n",
      "dtype: float64\n",
      "The max of Adj Close is:\n",
      "Adj Close    121.230003\n",
      "dtype: float64\n",
      "The max of Adj Close is:\n",
      "Adj Close    74.309998\n",
      "dtype: float64\n",
      "The min of Adj Close is:\n",
      "Adj Close    8.681197\n",
      "dtype: float64\n",
      "The min of Adj Close is:\n",
      "Adj Close    67.393913\n",
      "dtype: float64\n",
      "The min of Adj Close is:\n",
      "Adj Close    15.138289\n",
      "dtype: float64\n",
      "The min of Adj Close is:\n",
      "Adj Close    23.084974\n",
      "dtype: float64\n"
     ]
    }
   ],
   "source": [
    "for i in names:\n",
    "    print(\"The max of Adj Close is:\")\n",
    "    print(i[[\"Adj Close\"]].max())\n",
    "for i in names:\n",
    "    print(\"The min of Adj Close is:\")\n",
    "    print(i[[\"Adj Close\"]].min())"
   ]
  },
  {
   "cell_type": "markdown",
   "metadata": {},
   "source": [
    "1.3"
   ]
  },
  {
   "cell_type": "code",
   "execution_count": 96,
   "metadata": {},
   "outputs": [
    {
     "name": "stdout",
     "output_type": "stream",
     "text": [
      "This is min,max,mean,median of log returns:\n",
      "-0.18996315858911306 0.13939821312149547 0.0008842047374804361 0.0017027506070874665\n",
      "This is min,max,mean,median of log returns:\n",
      "-0.24619522782455228 0.20342881600137908 0.0008730931506204537 0.0008691287388984392\n",
      "This is min,max,mean,median of log returns:\n",
      "-0.3148332636779849 0.18754594983976025 0.000668329276244783 0.0013810880224038868\n",
      "This is min,max,mean,median of log returns:\n",
      "-0.12836152801319622 0.21415179357969727 0.00023751975167875567 0.0005192741621624641\n"
     ]
    }
   ],
   "source": [
    "for i in names:\n",
    "    i.sort_values('Date')\n",
    "\n",
    "for i in names:\n",
    "    i['pct_change'] = i[\"Adj Close\"].pct_change()\n",
    "    i['log_ret'] = np.log(i[\"Adj Close\"]) - np.log(i[\"Adj Close\"].shift(1))\n",
    "\n",
    "for i in names:\n",
    "    print(\"This is min,max,mean,median of log returns:\")\n",
    "    print(i[\"log_ret\"].min(), i[\"log_ret\"].max(), i[\"log_ret\"].mean(),i[\"log_ret\"].median() )\n",
    "    \n",
    "    "
   ]
  },
  {
   "cell_type": "markdown",
   "metadata": {},
   "source": [
    "1.4"
   ]
  },
  {
   "cell_type": "code",
   "execution_count": 98,
   "metadata": {},
   "outputs": [
    {
     "name": "stdout",
     "output_type": "stream",
     "text": [
      "This is the max and min index:\n",
      "589\n",
      "588\n",
      "This is the max and min index:\n",
      "589\n",
      "1117\n",
      "This is the max and min index:\n",
      "593\n",
      "584\n",
      "This is the max and min index:\n",
      "752\n",
      "581\n"
     ]
    }
   ],
   "source": [
    "for i in names:\n",
    "    print(\"This is the max and min index:\")\n",
    "    print(i[\"log_ret\"].idxmax())\n",
    "    print(i[\"log_ret\"].idxmin())"
   ]
  },
  {
   "cell_type": "markdown",
   "metadata": {},
   "source": [
    "1.5"
   ]
  },
  {
   "cell_type": "markdown",
   "metadata": {},
   "source": [
    "1.6"
   ]
  },
  {
   "cell_type": "code",
   "execution_count": 104,
   "metadata": {},
   "outputs": [
    {
     "name": "stdout",
     "output_type": "stream",
     "text": [
      "The total for aes, hca, mpc, zion is:\n",
      "1258 1257 1258 1257 respectively\n"
     ]
    }
   ],
   "source": [
    "#(aes, hca, mpc, zion)\n",
    "total_aes = sum(aes[\"Volume\"].notna()*aes[\"log_ret\"].notna())\n",
    "total_hca = sum(hca[\"Volume\"].notna()*hca[\"log_ret\"].notna())\n",
    "total_mpc = sum(mpc[\"Volume\"].notna()*mpc[\"log_ret\"].notna())\n",
    "total_zion = sum(zion[\"Volume\"].notna()*zion[\"log_ret\"].notna())\n",
    "print(\"The total for aes, hca, mpc, zion is:\")\n",
    "print(total_aes,total_hca,total_mpc,total_zion, \"respectively\")\n"
   ]
  }
 ],
 "metadata": {
  "kernelspec": {
   "display_name": "base",
   "language": "python",
   "name": "python3"
  },
  "language_info": {
   "codemirror_mode": {
    "name": "ipython",
    "version": 3
   },
   "file_extension": ".py",
   "mimetype": "text/x-python",
   "name": "python",
   "nbconvert_exporter": "python",
   "pygments_lexer": "ipython3",
   "version": "3.11.5"
  }
 },
 "nbformat": 4,
 "nbformat_minor": 2
}
