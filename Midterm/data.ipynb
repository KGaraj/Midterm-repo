{
 "cells": [
  {
   "cell_type": "code",
   "execution_count": null,
   "metadata": {},
   "outputs": [],
   "source": [
    "import seaborn as sns\n",
    "import pandas as pd\n",
    "import zipfile\n",
    "import numpy as np\n",
    "import matplotlib.pyplot as plt\n",
    "import datetime"
   ]
  },
  {
   "cell_type": "code",
   "execution_count": null,
   "metadata": {},
   "outputs": [],
   "source": [
    "aes = pd.read_csv('data/AES.csv', sep = ',', on_bad_lines= 'skip')\n",
    "hca = pd.read_csv('data/HCA.csv', sep = ',', on_bad_lines= 'skip')\n",
    "mpc = pd.read_csv('data/MPC.csv', sep = ',', on_bad_lines= 'skip')\n",
    "zion = pd.read_csv('data/ZION.csv', sep = ',', on_bad_lines= 'skip')\n",
    "names = (aes, hca, mpc, zion)\n",
    "aes"
   ]
  },
  {
   "cell_type": "markdown",
   "metadata": {},
   "source": [
    "1.1"
   ]
  },
  {
   "cell_type": "code",
   "execution_count": null,
   "metadata": {},
   "outputs": [],
   "source": [
    "for i in names:\n",
    "    print(i[\"Close\"].equals(i[\"Adj Close\"]))\n",
    "   \n"
   ]
  },
  {
   "cell_type": "markdown",
   "metadata": {},
   "source": [
    "1.2"
   ]
  },
  {
   "cell_type": "code",
   "execution_count": null,
   "metadata": {},
   "outputs": [],
   "source": [
    "for i in names:\n",
    "    print(\"The max of Adj Close is:\")\n",
    "    print(i[[\"Adj Close\"]].max())\n",
    "for i in names:\n",
    "    print(\"The min of Adj Close is:\")\n",
    "    print(i[[\"Adj Close\"]].min())"
   ]
  },
  {
   "cell_type": "markdown",
   "metadata": {},
   "source": [
    "1.3"
   ]
  },
  {
   "cell_type": "code",
   "execution_count": null,
   "metadata": {},
   "outputs": [],
   "source": [
    "for i in names:\n",
    "    i.sort_values('Date')\n",
    "\n",
    "for i in names:\n",
    "    i['pct_change'] = i[\"Adj Close\"].pct_change()\n",
    "    i['log_ret'] = np.log(i[\"Adj Close\"]) - np.log(i[\"Adj Close\"].shift(1))\n",
    "\n",
    "for i in names:\n",
    "    print(\"This is min,max,mean,median of log returns:\")\n",
    "    print(i[\"log_ret\"].min(), i[\"log_ret\"].max(), i[\"log_ret\"].mean(),i[\"log_ret\"].median() )\n",
    "    \n",
    "    "
   ]
  },
  {
   "cell_type": "markdown",
   "metadata": {},
   "source": [
    "1.4"
   ]
  },
  {
   "cell_type": "code",
   "execution_count": null,
   "metadata": {},
   "outputs": [],
   "source": [
    "for i in names:\n",
    "    print(\"This is the max and min index:\")\n",
    "    print(i[\"log_ret\"].idxmax())\n",
    "    print(i[\"log_ret\"].idxmin())"
   ]
  },
  {
   "cell_type": "markdown",
   "metadata": {},
   "source": [
    "1.5"
   ]
  },
  {
   "cell_type": "markdown",
   "metadata": {},
   "source": [
    "1.6"
   ]
  },
  {
   "cell_type": "code",
   "execution_count": null,
   "metadata": {},
   "outputs": [],
   "source": [
    "#(aes, hca, mpc, zion)\n",
    "total_aes = sum(aes[\"Volume\"].notna()*aes[\"log_ret\"].notna())\n",
    "total_hca = sum(hca[\"Volume\"].notna()*hca[\"log_ret\"].notna())\n",
    "total_mpc = sum(mpc[\"Volume\"].notna()*mpc[\"log_ret\"].notna())\n",
    "total_zion = sum(zion[\"Volume\"].notna()*zion[\"log_ret\"].notna())\n",
    "print(\"The total for aes, hca, mpc, zion is:\")\n",
    "print(total_aes,total_hca,total_mpc,total_zion, \"respectively\")\n"
   ]
  },
  {
   "cell_type": "markdown",
   "metadata": {},
   "source": [
    "1.7"
   ]
  },
  {
   "cell_type": "code",
   "execution_count": null,
   "metadata": {},
   "outputs": [],
   "source": [
    "fig = plt.figure()\n",
    "\n",
    "for i in names:\n",
    "    plt.plot(i['Date'], i['log_ret'])\n",
    "\n",
    "plt.show()"
   ]
  }
 ],
 "metadata": {
  "kernelspec": {
   "display_name": "base",
   "language": "python",
   "name": "python3"
  },
  "language_info": {
   "codemirror_mode": {
    "name": "ipython",
    "version": 3
   },
   "file_extension": ".py",
   "mimetype": "text/x-python",
   "name": "python",
   "nbconvert_exporter": "python",
   "pygments_lexer": "ipython3",
   "version": "3.11.5"
  }
 },
 "nbformat": 4,
 "nbformat_minor": 2
}
